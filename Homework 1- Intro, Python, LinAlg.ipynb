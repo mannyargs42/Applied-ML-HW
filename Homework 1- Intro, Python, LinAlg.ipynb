{
 "cells": [
  {
   "cell_type": "markdown",
   "id": "1e549f80",
   "metadata": {},
   "source": [
    "# Homework 1"
   ]
  },
  {
   "cell_type": "code",
   "execution_count": 1,
   "id": "26efc9ec",
   "metadata": {},
   "outputs": [],
   "source": [
    "import time\n",
    "import matplotlib.pyplot as plt\n",
    "import numpy as np"
   ]
  },
  {
   "cell_type": "markdown",
   "id": "d5cb3639",
   "metadata": {},
   "source": [
    "### Problem 1:"
   ]
  },
  {
   "cell_type": "markdown",
   "id": "8e97c2e5",
   "metadata": {},
   "source": [
    "**Part 1:**"
   ]
  },
  {
   "cell_type": "code",
   "execution_count": 42,
   "id": "2401c5d4",
   "metadata": {},
   "outputs": [],
   "source": [
    "def fib_for(n=0):\n",
    "    fibo = [0,1]\n",
    "    if n < 2:\n",
    "        return 1\n",
    "    for i in range(2,n):\n",
    "        new = fibo[-2] + fibo[-1]\n",
    "        fibo.append(new)\n",
    "    return fibo[-1]"
   ]
  },
  {
   "cell_type": "code",
   "execution_count": 43,
   "id": "cd1d9018",
   "metadata": {},
   "outputs": [
    {
     "data": {
      "text/plain": [
       "1"
      ]
     },
     "execution_count": 43,
     "metadata": {},
     "output_type": "execute_result"
    }
   ],
   "source": [
    "fib_for(0)"
   ]
  },
  {
   "cell_type": "code",
   "execution_count": 44,
   "id": "c620274f",
   "metadata": {},
   "outputs": [
    {
     "data": {
      "text/plain": [
       "1"
      ]
     },
     "execution_count": 44,
     "metadata": {},
     "output_type": "execute_result"
    }
   ],
   "source": [
    "fib_for(1)"
   ]
  },
  {
   "cell_type": "code",
   "execution_count": 45,
   "id": "5d9f62a3",
   "metadata": {},
   "outputs": [
    {
     "data": {
      "text/plain": [
       "34"
      ]
     },
     "execution_count": 45,
     "metadata": {},
     "output_type": "execute_result"
    }
   ],
   "source": [
    "fib_for(10)"
   ]
  },
  {
   "cell_type": "markdown",
   "id": "3b1f1370",
   "metadata": {},
   "source": [
    "**Part 2:** \\\n",
    "The for loop function is faster than the recursive function. Recursion generally relies on a call stack to store data whereas iterative loops, such as the for loop, do not. The difference is clearer with larger numbers that fill the stack."
   ]
  },
  {
   "cell_type": "markdown",
   "id": "9a73df20",
   "metadata": {},
   "source": [
    "**Part 3:**"
   ]
  },
  {
   "cell_type": "code",
   "execution_count": 80,
   "id": "726d187e",
   "metadata": {},
   "outputs": [],
   "source": [
    "def timer(n, k, f):\n",
    "    fib_time = []\n",
    "    for i in range(k):\n",
    "        x = time.time()\n",
    "        f(n)\n",
    "        y = time.time()\n",
    "        fib_time.append(y-x)\n",
    "    avg_time = sum(fib_time) / len(fib_time)\n",
    "    return avg_time"
   ]
  },
  {
   "cell_type": "code",
   "execution_count": 81,
   "id": "a2422c2e",
   "metadata": {},
   "outputs": [
    {
     "data": {
      "text/plain": [
       "4.482269287109375e-06"
      ]
     },
     "execution_count": 81,
     "metadata": {},
     "output_type": "execute_result"
    }
   ],
   "source": [
    "timer(10, 10, fib_for)     "
   ]
  },
  {
   "cell_type": "code",
   "execution_count": 82,
   "id": "38f8d17e",
   "metadata": {},
   "outputs": [
    {
     "data": {
      "text/plain": [
       "5.2809715270996094e-05"
      ]
     },
     "execution_count": 82,
     "metadata": {},
     "output_type": "execute_result"
    }
   ],
   "source": [
    "timer(10, 10, fib_rec)"
   ]
  },
  {
   "cell_type": "markdown",
   "id": "883a2b57",
   "metadata": {},
   "source": [
    "**Part 4:**"
   ]
  },
  {
   "cell_type": "code",
   "execution_count": 94,
   "id": "003db277",
   "metadata": {},
   "outputs": [],
   "source": [
    "def timer_range(n, k, f):\n",
    "    if isinstance(n, int) == True:\n",
    "        fib_time = []\n",
    "        for i in range(k):\n",
    "            x = time.time()\n",
    "            f(n)\n",
    "            y = time.time()\n",
    "            fib_time.append(y-x)\n",
    "        avg_time = sum(fib_time) / len(fib_time)\n",
    "        return avg_time\n",
    "    else:\n",
    "        fib_x = []\n",
    "        for j in n:\n",
    "            fib_time = []\n",
    "            for r in range(k):\n",
    "                x = time.time()\n",
    "                f(j)\n",
    "                y = time.time()\n",
    "                fib_time.append(y-x)\n",
    "            avg_time = sum(fib_time) / len(fib_time)\n",
    "            fib_x.append(avg_time)\n",
    "        return fib_x\n",
    "    "
   ]
  },
  {
   "cell_type": "code",
   "execution_count": 101,
   "id": "185f28e8",
   "metadata": {},
   "outputs": [],
   "source": [
    "x = np.arange(10)\n",
    "y1 = timer_range(np.arange(10), 50, fib_for)\n",
    "y2 = timer_range(np.arange(10), 50, fib_rec)"
   ]
  },
  {
   "cell_type": "code",
   "execution_count": 102,
   "id": "84cc3169",
   "metadata": {},
   "outputs": [
    {
     "data": {
      "image/png": "[encoded data removed]",
      "text/plain": [
       "<Figure size 432x288 with 1 Axes>"
      ]
     },
     "metadata": {
      "needs_background": "light"
     },
     "output_type": "display_data"
    }
   ],
   "source": [
    "plt.plot(x, y1, label = 'for loop')\n",
    "plt.plot(x, y2, label = 'recursive')\n",
    "plt.xlabel('n')\n",
    "plt.ylabel('Average Time (s)')\n",
    "plt.legend()\n",
    "plt.show()"
   ]
  },
  {
   "cell_type": "markdown",
   "id": "e3d82bf0",
   "metadata": {},
   "source": [
    "### Problem 2:"
   ]
  },
  {
   "cell_type": "markdown",
   "id": "459fc47c",
   "metadata": {},
   "source": [
    "**Part 1:**"
   ]
  },
  {
   "cell_type": "code",
   "execution_count": 106,
   "id": "ddd379c4",
   "metadata": {},
   "outputs": [],
   "source": [
    "M = np.matrix([[1, -4, 2],\n",
    "          [-4, 1, -2],\n",
    "          [2, -2, -2]])"
   ]
  },
  {
   "cell_type": "code",
   "execution_count": 107,
   "id": "4ffb3444",
   "metadata": {},
   "outputs": [
    {
     "name": "stdout",
     "output_type": "stream",
     "text": [
      "54.00000000000001\n"
     ]
    }
   ],
   "source": [
    "determinant = np.linalg.det(M)\n",
    "\n",
    "print(determinant)"
   ]
  },
  {
   "cell_type": "code",
   "execution_count": 108,
   "id": "7af725c4",
   "metadata": {},
   "outputs": [
    {
     "name": "stdout",
     "output_type": "stream",
     "text": [
      "[[ 1 -4  2]\n",
      " [-4  1 -2]\n",
      " [ 2 -2 -2]]\n"
     ]
    }
   ],
   "source": [
    "transpose = M.getT()\n",
    "\n",
    "print(transpose)"
   ]
  },
  {
   "cell_type": "code",
   "execution_count": 109,
   "id": "96e09aa0",
   "metadata": {},
   "outputs": [
    {
     "name": "stdout",
     "output_type": "stream",
     "text": [
      "[[-0.11111111 -0.22222222  0.11111111]\n",
      " [-0.22222222 -0.11111111 -0.11111111]\n",
      " [ 0.11111111 -0.11111111 -0.27777778]]\n"
     ]
    }
   ],
   "source": [
    "inverse = M.getI()\n",
    "\n",
    "print(inverse)"
   ]
  },
  {
   "cell_type": "markdown",
   "id": "ce3806d5",
   "metadata": {},
   "source": [
    "**Part 2:**"
   ]
  },
  {
   "cell_type": "code",
   "execution_count": 120,
   "id": "21a06bf6",
   "metadata": {},
   "outputs": [],
   "source": [
    "eigenvalues, eigenvectors = np.linalg.eigh(M)"
   ]
  },
  {
   "cell_type": "code",
   "execution_count": 121,
   "id": "da1ec5d5",
   "metadata": {},
   "outputs": [
    {
     "name": "stdout",
     "output_type": "stream",
     "text": [
      "[-3. -3.  6.]\n"
     ]
    }
   ],
   "source": [
    "print(eigenvalues)"
   ]
  },
  {
   "cell_type": "code",
   "execution_count": 122,
   "id": "759ccfa4",
   "metadata": {},
   "outputs": [
    {
     "name": "stdout",
     "output_type": "stream",
     "text": [
      "[[-0.74535599  0.          0.66666667]\n",
      " [-0.59628479  0.4472136  -0.66666667]\n",
      " [ 0.2981424   0.89442719  0.33333333]]\n"
     ]
    }
   ],
   "source": [
    "print(eigenvectors)"
   ]
  },
  {
   "cell_type": "markdown",
   "id": "fa9c4fd9",
   "metadata": {},
   "source": [
    "**Part 3:**"
   ]
  },
  {
   "cell_type": "code",
   "execution_count": null,
   "id": "2397e3da",
   "metadata": {},
   "outputs": [],
   "source": []
  },
  {
   "cell_type": "markdown",
   "id": "ebd06c07",
   "metadata": {},
   "source": [
    "**Part 4:** \\\n",
    "Sorry it's messy."
   ]
  },
  {
   "cell_type": "markdown",
   "id": "b32ddece",
   "metadata": {},
   "source": [
    "[$[6xy - yzsin(x)$,   $3x^2 + zcos(x) + 2yz^5$,   $ycos(x) + 5y^2 z^4 ],$ \\\n",
    "\\\n",
    "$[3x^2 + zcos(x) + 2yz^5$,   $2xz^5$,   $sin(x) + 10xyz^4 ],$\\\n",
    "\\\n",
    "$[ycos(x) + 5y^2 z^4 $,   $sin(x) + 10xyz^4$,   $20xy^2 z^3 ]$]\n"
   ]
  },
  {
   "cell_type": "markdown",
   "id": "998af0ca",
   "metadata": {},
   "source": [
    "### Problem 3:"
   ]
  },
  {
   "cell_type": "markdown",
   "id": "a835e051",
   "metadata": {},
   "source": [
    "**Part 1:** \\\n",
    "\\\n",
    "A validation set is a set of unseen data that we can use to get insight into the accuracy of our model. It allows us to increase the training set size and make adjustments to the features and parameters of the model in order to improve performance. A test set is held unseen from the model until the very end of the process. Evaluation of performance can be obtained from the results of the model on the test set, but the model should no longer be adjusted to perform better on the test set."
   ]
  },
  {
   "cell_type": "markdown",
   "id": "4b0c8728",
   "metadata": {},
   "source": [
    "**Part 2:** \\\n",
    "\\\n",
    "Supervised learning algorithms involve input and output relationships, and generally divided into classification or regression. In supervised learning, we have the input features in the dataset as well as the labels we want to train our model to predict. \\\n",
    "Unsupervised learning algorithms only have input variables, with no outputs/labels that correspond to them. We use unsupervised learning for dimensionality reduction or for clustering of similar data points."
   ]
  },
  {
   "cell_type": "code",
   "execution_count": null,
   "id": "c155dcce",
   "metadata": {},
   "outputs": [],
   "source": []
  }
 ],
 "metadata": {
  "kernelspec": {
   "display_name": "Python 3 (ipykernel)",
   "language": "python",
   "name": "python3"
  },
  "language_info": {
   "codemirror_mode": {
    "name": "ipython",
    "version": 3
   },
   "file_extension": ".py",
   "mimetype": "text/x-python",
   "name": "python",
   "nbconvert_exporter": "python",
   "pygments_lexer": "ipython3",
   "version": "3.7.10"
  }
 },
 "nbformat": 4,
 "nbformat_minor": 5
}
