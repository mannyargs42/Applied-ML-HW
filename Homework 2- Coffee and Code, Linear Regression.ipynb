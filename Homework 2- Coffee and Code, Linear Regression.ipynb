{
 "cells": [
  {
   "cell_type": "markdown",
   "id": "d196a66b",
   "metadata": {},
   "source": [
    "## Homework 2"
   ]
  },
  {
   "cell_type": "markdown",
   "id": "f80b7e20",
   "metadata": {},
   "source": [
    "Extract meaningful relationships from a dataset using regression and gradient descent!"
   ]
  },
  {
   "cell_type": "code",
   "execution_count": 1,
   "id": "be9ef741",
   "metadata": {},
   "outputs": [],
   "source": [
    "import pandas as pd\n",
    "import numpy as np\n",
    "import matplotlib.pyplot as plt"
   ]
  },
  {
   "cell_type": "code",
   "execution_count": 2,
   "id": "814fdf3a",
   "metadata": {},
   "outputs": [],
   "source": [
    "coffee_code = pd.read_csv('coffee_and_code.csv')"
   ]
  },
  {
   "cell_type": "code",
   "execution_count": 3,
   "id": "cfe41363",
   "metadata": {},
   "outputs": [
    {
     "data": {
      "text/html": [
       "<div>\n",
       "<style scoped>\n",
       "    .dataframe tbody tr th:only-of-type {\n",
       "        vertical-align: middle;\n",
       "    }\n",
       "\n",
       "    .dataframe tbody tr th {\n",
       "        vertical-align: top;\n",
       "    }\n",
       "\n",
       "    .dataframe thead th {\n",
       "        text-align: right;\n",
       "    }\n",
       "</style>\n",
       "<table border=\"1\" class=\"dataframe\">\n",
       "  <thead>\n",
       "    <tr style=\"text-align: right;\">\n",
       "      <th></th>\n",
       "      <th>CodingHours</th>\n",
       "      <th>CoffeeCupsPerDay</th>\n",
       "      <th>CoffeeTime</th>\n",
       "      <th>CodingWithoutCoffee</th>\n",
       "      <th>CoffeeType</th>\n",
       "      <th>CoffeeSolveBugs</th>\n",
       "      <th>Gender</th>\n",
       "      <th>Country</th>\n",
       "      <th>AgeRange</th>\n",
       "    </tr>\n",
       "  </thead>\n",
       "  <tbody>\n",
       "    <tr>\n",
       "      <th>0</th>\n",
       "      <td>8</td>\n",
       "      <td>2</td>\n",
       "      <td>Before coding</td>\n",
       "      <td>Yes</td>\n",
       "      <td>Caffè latte</td>\n",
       "      <td>Sometimes</td>\n",
       "      <td>Female</td>\n",
       "      <td>Lebanon</td>\n",
       "      <td>18 to 29</td>\n",
       "    </tr>\n",
       "    <tr>\n",
       "      <th>1</th>\n",
       "      <td>3</td>\n",
       "      <td>2</td>\n",
       "      <td>Before coding</td>\n",
       "      <td>Yes</td>\n",
       "      <td>Americano</td>\n",
       "      <td>Yes</td>\n",
       "      <td>Female</td>\n",
       "      <td>Lebanon</td>\n",
       "      <td>30 to 39</td>\n",
       "    </tr>\n",
       "    <tr>\n",
       "      <th>2</th>\n",
       "      <td>5</td>\n",
       "      <td>3</td>\n",
       "      <td>While coding</td>\n",
       "      <td>No</td>\n",
       "      <td>Nescafe</td>\n",
       "      <td>Yes</td>\n",
       "      <td>Female</td>\n",
       "      <td>Lebanon</td>\n",
       "      <td>18 to 29</td>\n",
       "    </tr>\n",
       "    <tr>\n",
       "      <th>3</th>\n",
       "      <td>8</td>\n",
       "      <td>2</td>\n",
       "      <td>Before coding</td>\n",
       "      <td>No</td>\n",
       "      <td>Nescafe</td>\n",
       "      <td>Yes</td>\n",
       "      <td>Male</td>\n",
       "      <td>Lebanon</td>\n",
       "      <td>NaN</td>\n",
       "    </tr>\n",
       "    <tr>\n",
       "      <th>4</th>\n",
       "      <td>10</td>\n",
       "      <td>3</td>\n",
       "      <td>While coding</td>\n",
       "      <td>Sometimes</td>\n",
       "      <td>Turkish</td>\n",
       "      <td>No</td>\n",
       "      <td>Male</td>\n",
       "      <td>Lebanon</td>\n",
       "      <td>18 to 29</td>\n",
       "    </tr>\n",
       "  </tbody>\n",
       "</table>\n",
       "</div>"
      ],
      "text/plain": [
       "   CodingHours  CoffeeCupsPerDay     CoffeeTime CodingWithoutCoffee  \\\n",
       "0            8                 2  Before coding                 Yes   \n",
       "1            3                 2  Before coding                 Yes   \n",
       "2            5                 3   While coding                  No   \n",
       "3            8                 2  Before coding                  No   \n",
       "4           10                 3   While coding           Sometimes   \n",
       "\n",
       "    CoffeeType CoffeeSolveBugs  Gender  Country  AgeRange  \n",
       "0  Caffè latte       Sometimes  Female  Lebanon  18 to 29  \n",
       "1    Americano             Yes  Female  Lebanon  30 to 39  \n",
       "2      Nescafe             Yes  Female  Lebanon  18 to 29  \n",
       "3      Nescafe             Yes    Male  Lebanon       NaN  \n",
       "4      Turkish              No    Male  Lebanon  18 to 29  "
      ]
     },
     "execution_count": 3,
     "metadata": {},
     "output_type": "execute_result"
    }
   ],
   "source": [
    "coffee_code.head()"
   ]
  },
  {
   "cell_type": "markdown",
   "id": "4eafe5c3",
   "metadata": {},
   "source": [
    "### Visualize your data!"
   ]
  },
  {
   "cell_type": "code",
   "execution_count": 4,
   "id": "7063aacc",
   "metadata": {},
   "outputs": [],
   "source": [
    "from pandas.plotting import scatter_matrix"
   ]
  },
  {
   "cell_type": "code",
   "execution_count": 5,
   "id": "efc62c28",
   "metadata": {
    "scrolled": true
   },
   "outputs": [
    {
     "data": {
      "text/plain": [
       "array([[<AxesSubplot:xlabel='CodingHours', ylabel='CodingHours'>,\n",
       "        <AxesSubplot:xlabel='CoffeeCupsPerDay', ylabel='CodingHours'>],\n",
       "       [<AxesSubplot:xlabel='CodingHours', ylabel='CoffeeCupsPerDay'>,\n",
       "        <AxesSubplot:xlabel='CoffeeCupsPerDay', ylabel='CoffeeCupsPerDay'>]],\n",
       "      dtype=object)"
      ]
     },
     "execution_count": 5,
     "metadata": {},
     "output_type": "execute_result"
    },
    {
     "data": {
      "image/png": "[encoded data removed]",
      "text/plain": [
       "<Figure size 864x576 with 4 Axes>"
      ]
     },
     "metadata": {
      "needs_background": "light"
     },
     "output_type": "display_data"
    }
   ],
   "source": [
    "numericals = ['CodingHours', 'CoffeeCupsPerDay']\n",
    "scatter_matrix(coffee_code[numericals], figsize=(12, 8))"
   ]
  },
  {
   "cell_type": "code",
   "execution_count": 7,
   "id": "bff0a785",
   "metadata": {},
   "outputs": [
    {
     "data": {
      "text/plain": [
       "<matplotlib.collections.PathCollection at 0x7f9638046160>"
      ]
     },
     "execution_count": 7,
     "metadata": {},
     "output_type": "execute_result"
    },
    {
     "data": {
      "image/png": "[encoded data removed]",
      "text/plain": [
       "<Figure size 432x288 with 1 Axes>"
      ]
     },
     "metadata": {
      "needs_background": "light"
     },
     "output_type": "display_data"
    }
   ],
   "source": [
    "# include mask for coffee time\n",
    "\n",
    "mask = (coffee_code['CoffeeTime']==\"While coding\")\n",
    "plt.figure()\n",
    "plt.scatter(coffee_code['CoffeeCupsPerDay'][mask],coffee_code['CodingHours'][mask])"
   ]
  },
  {
   "cell_type": "code",
   "execution_count": 8,
   "id": "98e4e35b",
   "metadata": {},
   "outputs": [
    {
     "data": {
      "text/plain": [
       "<matplotlib.collections.PathCollection at 0x7f969a37c6a0>"
      ]
     },
     "execution_count": 8,
     "metadata": {},
     "output_type": "execute_result"
    },
    {
     "data": {
      "image/png": "[encoded data removed]",
      "text/plain": [
       "<Figure size 432x288 with 1 Axes>"
      ]
     },
     "metadata": {
      "needs_background": "light"
     },
     "output_type": "display_data"
    }
   ],
   "source": [
    "# include 2 masks for coffee time and coding without coffee\n",
    "\n",
    "mask = (coffee_code['CoffeeTime']==\"While coding\") & (coffee_code['CodingWithoutCoffee']==\"No\")\n",
    "plt.figure()\n",
    "plt.scatter(coffee_code['CoffeeCupsPerDay'][mask],coffee_code['CodingHours'][mask])"
   ]
  },
  {
   "cell_type": "markdown",
   "id": "2a29260b",
   "metadata": {},
   "source": [
    "### Perform a Regression!"
   ]
  },
  {
   "cell_type": "code",
   "execution_count": 9,
   "id": "df0e0d99",
   "metadata": {},
   "outputs": [],
   "source": [
    "# using linear regression, set coding hours as y variable\n",
    "# and coffee cups per day as x variable\n",
    "\n",
    "y = coffee_code['CodingHours'].array\n",
    "x = coffee_code['CoffeeCupsPerDay'].array"
   ]
  },
  {
   "cell_type": "code",
   "execution_count": 10,
   "id": "afb215dc",
   "metadata": {},
   "outputs": [],
   "source": [
    "# add dummy variable to each instance\n",
    "\n",
    "x_b = np.c_[np.ones((100, 1)), x]"
   ]
  },
  {
   "cell_type": "markdown",
   "id": "5d38dd6c",
   "metadata": {},
   "source": [
    "Find weights using $$\\begin{equation*}w = (x^\\intercal x)^{-1} x^\\intercal y \\end{equation*}$$"
   ]
  },
  {
   "cell_type": "code",
   "execution_count": 11,
   "id": "dccc141c",
   "metadata": {},
   "outputs": [],
   "source": [
    "inv = np.linalg.inv\n",
    "\n",
    "weight_best = inv(x_b.T.dot(x_b)).dot(x_b.T).dot(y)"
   ]
  },
  {
   "cell_type": "code",
   "execution_count": 12,
   "id": "df3e40e3",
   "metadata": {},
   "outputs": [
    {
     "data": {
      "text/plain": [
       "array([4.92447341, 0.51402304])"
      ]
     },
     "execution_count": 12,
     "metadata": {},
     "output_type": "execute_result"
    }
   ],
   "source": [
    "weight_best"
   ]
  },
  {
   "cell_type": "code",
   "execution_count": 13,
   "id": "8f73d6c3",
   "metadata": {},
   "outputs": [],
   "source": [
    "# predict at the low and highs\n",
    "\n",
    "x_new = np.array([[1], [8]])\n",
    "\n",
    "# add dummy variables\n",
    "\n",
    "x_new_b = np.c_[np.ones((2,1)), x_new]"
   ]
  },
  {
   "cell_type": "code",
   "execution_count": 14,
   "id": "1471ae49",
   "metadata": {},
   "outputs": [],
   "source": [
    "# calculate prediction vector\n",
    "\n",
    "y_pred = x_new_b.dot(weight_best)"
   ]
  },
  {
   "cell_type": "code",
   "execution_count": 15,
   "id": "0e8a72ab",
   "metadata": {},
   "outputs": [
    {
     "name": "stdout",
     "output_type": "stream",
     "text": [
      "[5.43849645 9.03665774]\n"
     ]
    }
   ],
   "source": [
    "print(y_pred)"
   ]
  },
  {
   "cell_type": "code",
   "execution_count": 18,
   "id": "75675d6d",
   "metadata": {},
   "outputs": [
    {
     "data": {
      "image/png": "[encoded data removed]",
      "text/plain": [
       "<Figure size 432x288 with 1 Axes>"
      ]
     },
     "metadata": {
      "needs_background": "light"
     },
     "output_type": "display_data"
    }
   ],
   "source": [
    "# visualize\n",
    "\n",
    "plt.plot(x_new, y_pred, \"-\", color=\"r\", label=\"Prediction\")\n",
    "plt.plot(coffee_code['CoffeeCupsPerDay'], \n",
    "         coffee_code['CodingHours'], \".\", color=\"b\", label=\"Data\")\n",
    "\n",
    "\n",
    "plt.title('Coding Hours and Coffee Consumption', fontsize=16)\n",
    "plt.xlabel('Coffee Cups Per Day')\n",
    "plt.ylabel('Coding Hours')\n",
    "\n",
    "plt.legend(fontsize = 14, loc='best')\n",
    "plt.axis([0.5, 8, 0, 11])\n",
    "\n",
    "\n",
    "plt.show()"
   ]
  },
  {
   "cell_type": "markdown",
   "id": "a969fc11",
   "metadata": {},
   "source": [
    "### Real Work Constraints!"
   ]
  },
  {
   "cell_type": "markdown",
   "id": "17a72889",
   "metadata": {},
   "source": [
    "We can put some constraints on the data included in our model to remove outliers, in order to reudce overfitting that may come with outliers in the data. For example, if the point with 1 cup of coffee and 10 coding hours is more than 3 standard deviations from the means, it may benefit the model to not include it. \\\n",
    "Having more specific labels may have fit the data better. Someone may code 10 hours and 1 cup of coffee and be as productive as someone who drank 4 cups and coded 5 hours, so having \"LinesCoded\" columns to quantify might make for a better dataset."
   ]
  },
  {
   "cell_type": "code",
   "execution_count": null,
   "id": "784fbbb4",
   "metadata": {},
   "outputs": [],
   "source": []
  }
 ],
 "metadata": {
  "kernelspec": {
   "display_name": "Python 3 (ipykernel)",
   "language": "python",
   "name": "python3"
  },
  "language_info": {
   "codemirror_mode": {
    "name": "ipython",
    "version": 3
   },
   "file_extension": ".py",
   "mimetype": "text/x-python",
   "name": "python",
   "nbconvert_exporter": "python",
   "pygments_lexer": "ipython3",
   "version": "3.7.10"
  }
 },
 "nbformat": 4,
 "nbformat_minor": 5
}
