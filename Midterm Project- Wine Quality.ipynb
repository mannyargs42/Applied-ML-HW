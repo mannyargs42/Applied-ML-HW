{
 "cells": [
  {
   "cell_type": "markdown",
   "id": "1ee9109d",
   "metadata": {},
   "source": [
    "## Midterm Assignment"
   ]
  },
  {
   "cell_type": "markdown",
   "id": "e7c1031e",
   "metadata": {},
   "source": [
    "**1) Understanding and explaining the data set.**"
   ]
  },
  {
   "cell_type": "code",
   "execution_count": 1,
   "id": "2e31e2b8",
   "metadata": {},
   "outputs": [],
   "source": [
    "import pandas as pd\n",
    "import numpy as np\n",
    "import matplotlib.pyplot as plt"
   ]
  },
  {
   "cell_type": "code",
   "execution_count": 2,
   "id": "cda015f3",
   "metadata": {},
   "outputs": [],
   "source": [
    "wine_quality = pd.read_csv('winequality-red.csv')"
   ]
  },
  {
   "cell_type": "code",
   "execution_count": 3,
   "id": "7f4e89a7",
   "metadata": {
    "scrolled": true
   },
   "outputs": [
    {
     "data": {
      "text/html": [
       "<div>\n",
       "<style scoped>\n",
       "    .dataframe tbody tr th:only-of-type {\n",
       "        vertical-align: middle;\n",
       "    }\n",
       "\n",
       "    .dataframe tbody tr th {\n",
       "        vertical-align: top;\n",
       "    }\n",
       "\n",
       "    .dataframe thead th {\n",
       "        text-align: right;\n",
       "    }\n",
       "</style>\n",
       "<table border=\"1\" class=\"dataframe\">\n",
       "  <thead>\n",
       "    <tr style=\"text-align: right;\">\n",
       "      <th></th>\n",
       "      <th>fixed acidity;\"volatile acidity\";\"citric acid\";\"residual sugar\";\"chlorides\";\"free sulfur dioxide\";\"total sulfur dioxide\";\"density\";\"pH\";\"sulphates\";\"alcohol\";\"quality\"</th>\n",
       "    </tr>\n",
       "  </thead>\n",
       "  <tbody>\n",
       "    <tr>\n",
       "      <th>0</th>\n",
       "      <td>7.4;0.7;0;1.9;0.076;11;34;0.9978;3.51;0.56;9.4;5</td>\n",
       "    </tr>\n",
       "    <tr>\n",
       "      <th>1</th>\n",
       "      <td>7.8;0.88;0;2.6;0.098;25;67;0.9968;3.2;0.68;9.8;5</td>\n",
       "    </tr>\n",
       "    <tr>\n",
       "      <th>2</th>\n",
       "      <td>7.8;0.76;0.04;2.3;0.092;15;54;0.997;3.26;0.65;...</td>\n",
       "    </tr>\n",
       "    <tr>\n",
       "      <th>3</th>\n",
       "      <td>11.2;0.28;0.56;1.9;0.075;17;60;0.998;3.16;0.58...</td>\n",
       "    </tr>\n",
       "    <tr>\n",
       "      <th>4</th>\n",
       "      <td>7.4;0.7;0;1.9;0.076;11;34;0.9978;3.51;0.56;9.4;5</td>\n",
       "    </tr>\n",
       "  </tbody>\n",
       "</table>\n",
       "</div>"
      ],
      "text/plain": [
       "  fixed acidity;\"volatile acidity\";\"citric acid\";\"residual sugar\";\"chlorides\";\"free sulfur dioxide\";\"total sulfur dioxide\";\"density\";\"pH\";\"sulphates\";\"alcohol\";\"quality\"\n",
       "0   7.4;0.7;0;1.9;0.076;11;34;0.9978;3.51;0.56;9.4;5                                                                                                                     \n",
       "1   7.8;0.88;0;2.6;0.098;25;67;0.9968;3.2;0.68;9.8;5                                                                                                                     \n",
       "2  7.8;0.76;0.04;2.3;0.092;15;54;0.997;3.26;0.65;...                                                                                                                     \n",
       "3  11.2;0.28;0.56;1.9;0.075;17;60;0.998;3.16;0.58...                                                                                                                     \n",
       "4   7.4;0.7;0;1.9;0.076;11;34;0.9978;3.51;0.56;9.4;5                                                                                                                     "
      ]
     },
     "execution_count": 3,
     "metadata": {},
     "output_type": "execute_result"
    }
   ],
   "source": [
    "wine_quality.head()"
   ]
  },
  {
   "cell_type": "code",
   "execution_count": 4,
   "id": "cee3980e",
   "metadata": {},
   "outputs": [
    {
     "data": {
      "text/plain": [
       "(1599, 1)"
      ]
     },
     "execution_count": 4,
     "metadata": {},
     "output_type": "execute_result"
    }
   ],
   "source": [
    "wine_quality.shape"
   ]
  },
  {
   "cell_type": "markdown",
   "id": "b554ee09",
   "metadata": {},
   "source": [
    "The data set includes aspects of wine quality, including acidity and chloride concentrations, and an overall quality score. The data set needs to be cleaned to form a proper dataframe. It includes 1599 instances. Our model should predict quality based on the 11 attributes that are given."
   ]
  },
  {
   "cell_type": "markdown",
   "id": "d94f9d68",
   "metadata": {},
   "source": [
    "**2) Processing data, cleaning up.**"
   ]
  },
  {
   "cell_type": "code",
   "execution_count": 5,
   "id": "678fefdf",
   "metadata": {},
   "outputs": [],
   "source": [
    "# the csv is being read as one column, need to convert to 12\n",
    "# use ';' as delimiter when loading\n",
    "\n",
    "wine_quality = pd.read_csv('winequality-red.csv', sep=';')"
   ]
  },
  {
   "cell_type": "code",
   "execution_count": 6,
   "id": "d3250ffe",
   "metadata": {},
   "outputs": [
    {
     "data": {
      "text/plain": [
       "(1599, 12)"
      ]
     },
     "execution_count": 6,
     "metadata": {},
     "output_type": "execute_result"
    }
   ],
   "source": [
    "# now shape should be 1599x12\n",
    "\n",
    "wine_quality.shape"
   ]
  },
  {
   "cell_type": "code",
   "execution_count": 7,
   "id": "7db6dd4f",
   "metadata": {
    "scrolled": true
   },
   "outputs": [
    {
     "data": {
      "text/plain": [
       "fixed acidity           0\n",
       "volatile acidity        0\n",
       "citric acid             0\n",
       "residual sugar          0\n",
       "chlorides               0\n",
       "free sulfur dioxide     0\n",
       "total sulfur dioxide    0\n",
       "density                 0\n",
       "pH                      0\n",
       "sulphates               0\n",
       "alcohol                 0\n",
       "quality                 0\n",
       "dtype: int64"
      ]
     },
     "execution_count": 7,
     "metadata": {},
     "output_type": "execute_result"
    }
   ],
   "source": [
    "# check for missing values\n",
    "\n",
    "wine_quality.isna().sum()"
   ]
  },
  {
   "cell_type": "code",
   "execution_count": 8,
   "id": "057c6a99",
   "metadata": {},
   "outputs": [
    {
     "data": {
      "text/plain": [
       "fixed acidity           float64\n",
       "volatile acidity        float64\n",
       "citric acid             float64\n",
       "residual sugar          float64\n",
       "chlorides               float64\n",
       "free sulfur dioxide     float64\n",
       "total sulfur dioxide    float64\n",
       "density                 float64\n",
       "pH                      float64\n",
       "sulphates               float64\n",
       "alcohol                 float64\n",
       "quality                   int64\n",
       "dtype: object"
      ]
     },
     "execution_count": 8,
     "metadata": {},
     "output_type": "execute_result"
    }
   ],
   "source": [
    "# check data types\n",
    "\n",
    "wine_quality.dtypes"
   ]
  },
  {
   "cell_type": "code",
   "execution_count": 9,
   "id": "87397fcc",
   "metadata": {},
   "outputs": [
    {
     "data": {
      "text/html": [
       "<div>\n",
       "<style scoped>\n",
       "    .dataframe tbody tr th:only-of-type {\n",
       "        vertical-align: middle;\n",
       "    }\n",
       "\n",
       "    .dataframe tbody tr th {\n",
       "        vertical-align: top;\n",
       "    }\n",
       "\n",
       "    .dataframe thead th {\n",
       "        text-align: right;\n",
       "    }\n",
       "</style>\n",
       "<table border=\"1\" class=\"dataframe\">\n",
       "  <thead>\n",
       "    <tr style=\"text-align: right;\">\n",
       "      <th></th>\n",
       "      <th>fixed acidity</th>\n",
       "      <th>volatile acidity</th>\n",
       "      <th>citric acid</th>\n",
       "      <th>residual sugar</th>\n",
       "      <th>chlorides</th>\n",
       "      <th>free sulfur dioxide</th>\n",
       "      <th>total sulfur dioxide</th>\n",
       "      <th>density</th>\n",
       "      <th>pH</th>\n",
       "      <th>sulphates</th>\n",
       "      <th>alcohol</th>\n",
       "      <th>quality</th>\n",
       "    </tr>\n",
       "  </thead>\n",
       "  <tbody>\n",
       "    <tr>\n",
       "      <th>0</th>\n",
       "      <td>7.4</td>\n",
       "      <td>0.70</td>\n",
       "      <td>0.00</td>\n",
       "      <td>1.9</td>\n",
       "      <td>0.076</td>\n",
       "      <td>11.0</td>\n",
       "      <td>34.0</td>\n",
       "      <td>0.9978</td>\n",
       "      <td>3.51</td>\n",
       "      <td>0.56</td>\n",
       "      <td>9.4</td>\n",
       "      <td>5</td>\n",
       "    </tr>\n",
       "    <tr>\n",
       "      <th>1</th>\n",
       "      <td>7.8</td>\n",
       "      <td>0.88</td>\n",
       "      <td>0.00</td>\n",
       "      <td>2.6</td>\n",
       "      <td>0.098</td>\n",
       "      <td>25.0</td>\n",
       "      <td>67.0</td>\n",
       "      <td>0.9968</td>\n",
       "      <td>3.20</td>\n",
       "      <td>0.68</td>\n",
       "      <td>9.8</td>\n",
       "      <td>5</td>\n",
       "    </tr>\n",
       "    <tr>\n",
       "      <th>2</th>\n",
       "      <td>7.8</td>\n",
       "      <td>0.76</td>\n",
       "      <td>0.04</td>\n",
       "      <td>2.3</td>\n",
       "      <td>0.092</td>\n",
       "      <td>15.0</td>\n",
       "      <td>54.0</td>\n",
       "      <td>0.9970</td>\n",
       "      <td>3.26</td>\n",
       "      <td>0.65</td>\n",
       "      <td>9.8</td>\n",
       "      <td>5</td>\n",
       "    </tr>\n",
       "    <tr>\n",
       "      <th>3</th>\n",
       "      <td>11.2</td>\n",
       "      <td>0.28</td>\n",
       "      <td>0.56</td>\n",
       "      <td>1.9</td>\n",
       "      <td>0.075</td>\n",
       "      <td>17.0</td>\n",
       "      <td>60.0</td>\n",
       "      <td>0.9980</td>\n",
       "      <td>3.16</td>\n",
       "      <td>0.58</td>\n",
       "      <td>9.8</td>\n",
       "      <td>6</td>\n",
       "    </tr>\n",
       "    <tr>\n",
       "      <th>4</th>\n",
       "      <td>7.4</td>\n",
       "      <td>0.70</td>\n",
       "      <td>0.00</td>\n",
       "      <td>1.9</td>\n",
       "      <td>0.076</td>\n",
       "      <td>11.0</td>\n",
       "      <td>34.0</td>\n",
       "      <td>0.9978</td>\n",
       "      <td>3.51</td>\n",
       "      <td>0.56</td>\n",
       "      <td>9.4</td>\n",
       "      <td>5</td>\n",
       "    </tr>\n",
       "  </tbody>\n",
       "</table>\n",
       "</div>"
      ],
      "text/plain": [
       "   fixed acidity  volatile acidity  citric acid  residual sugar  chlorides  \\\n",
       "0            7.4              0.70         0.00             1.9      0.076   \n",
       "1            7.8              0.88         0.00             2.6      0.098   \n",
       "2            7.8              0.76         0.04             2.3      0.092   \n",
       "3           11.2              0.28         0.56             1.9      0.075   \n",
       "4            7.4              0.70         0.00             1.9      0.076   \n",
       "\n",
       "   free sulfur dioxide  total sulfur dioxide  density    pH  sulphates  \\\n",
       "0                 11.0                  34.0   0.9978  3.51       0.56   \n",
       "1                 25.0                  67.0   0.9968  3.20       0.68   \n",
       "2                 15.0                  54.0   0.9970  3.26       0.65   \n",
       "3                 17.0                  60.0   0.9980  3.16       0.58   \n",
       "4                 11.0                  34.0   0.9978  3.51       0.56   \n",
       "\n",
       "   alcohol  quality  \n",
       "0      9.4        5  \n",
       "1      9.8        5  \n",
       "2      9.8        5  \n",
       "3      9.8        6  \n",
       "4      9.4        5  "
      ]
     },
     "execution_count": 9,
     "metadata": {},
     "output_type": "execute_result"
    }
   ],
   "source": [
    "wine_quality.head()"
   ]
  },
  {
   "cell_type": "markdown",
   "id": "cdf249f3",
   "metadata": {},
   "source": [
    "There is no missing data to deal with in this data set. All attributes represent numerical data. The dataframe is now all 12 columns as stated in the \"read me\" for the data set."
   ]
  },
  {
   "cell_type": "markdown",
   "id": "3febb287",
   "metadata": {},
   "source": [
    "**3) Dividing your data into a training and test set.**"
   ]
  },
  {
   "cell_type": "code",
   "execution_count": 10,
   "id": "51474b89",
   "metadata": {},
   "outputs": [],
   "source": [
    "# define a function to split the data set into train/test sets\n",
    "# assumes target variable is the last column in dataframe\n",
    "\n",
    "def train_test_split(df, split, shuffle=True):\n",
    "    # make list of length of dataframe\n",
    "    indexes = np.arange(len(df))\n",
    "    \n",
    "    # shuffle numbers equal to range of dataframe\n",
    "    if shuffle == True:\n",
    "        np.random.shuffle(indexes)\n",
    "    \n",
    "    # use split as decimal to determine length of train/test set\n",
    "        # based on dataframe length\n",
    "    n = round(len(df) * split)\n",
    "    \n",
    "    # use 'n' to get train set and '1-n' for test set\n",
    "    train = df.iloc[indexes[:n], :]\n",
    "    test = df.iloc[indexes[n:], :]\n",
    "    \n",
    "    # then divide the x and y portions of train and test sets\n",
    "    x_train = train.drop(train.columns[-1], axis=1)\n",
    "    y_train = train[train.columns[-1]]\n",
    "    x_test = test.drop(test.columns[-1], axis=1)\n",
    "    y_test = test[test.columns[-1]]\n",
    "    \n",
    "    return x_train, y_train, x_test, y_test"
   ]
  },
  {
   "cell_type": "code",
   "execution_count": 11,
   "id": "64f41637",
   "metadata": {},
   "outputs": [],
   "source": [
    "# now set split to 75% train, 25% test and divide data\n",
    "\n",
    "x_train, y_train, x_test, y_test = train_test_split(wine_quality, 0.75)"
   ]
  },
  {
   "cell_type": "code",
   "execution_count": 12,
   "id": "6d2f65bd",
   "metadata": {},
   "outputs": [
    {
     "data": {
      "text/html": [
       "<div>\n",
       "<style scoped>\n",
       "    .dataframe tbody tr th:only-of-type {\n",
       "        vertical-align: middle;\n",
       "    }\n",
       "\n",
       "    .dataframe tbody tr th {\n",
       "        vertical-align: top;\n",
       "    }\n",
       "\n",
       "    .dataframe thead th {\n",
       "        text-align: right;\n",
       "    }\n",
       "</style>\n",
       "<table border=\"1\" class=\"dataframe\">\n",
       "  <thead>\n",
       "    <tr style=\"text-align: right;\">\n",
       "      <th></th>\n",
       "      <th>fixed acidity</th>\n",
       "      <th>volatile acidity</th>\n",
       "      <th>citric acid</th>\n",
       "      <th>residual sugar</th>\n",
       "      <th>chlorides</th>\n",
       "      <th>free sulfur dioxide</th>\n",
       "      <th>total sulfur dioxide</th>\n",
       "      <th>density</th>\n",
       "      <th>pH</th>\n",
       "      <th>sulphates</th>\n",
       "      <th>alcohol</th>\n",
       "    </tr>\n",
       "  </thead>\n",
       "  <tbody>\n",
       "    <tr>\n",
       "      <th>72</th>\n",
       "      <td>7.7</td>\n",
       "      <td>0.69</td>\n",
       "      <td>0.22</td>\n",
       "      <td>1.9</td>\n",
       "      <td>0.084</td>\n",
       "      <td>18.0</td>\n",
       "      <td>94.0</td>\n",
       "      <td>0.99610</td>\n",
       "      <td>3.31</td>\n",
       "      <td>0.48</td>\n",
       "      <td>9.5</td>\n",
       "    </tr>\n",
       "    <tr>\n",
       "      <th>133</th>\n",
       "      <td>6.6</td>\n",
       "      <td>0.50</td>\n",
       "      <td>0.01</td>\n",
       "      <td>1.5</td>\n",
       "      <td>0.060</td>\n",
       "      <td>17.0</td>\n",
       "      <td>26.0</td>\n",
       "      <td>0.99520</td>\n",
       "      <td>3.40</td>\n",
       "      <td>0.58</td>\n",
       "      <td>9.8</td>\n",
       "    </tr>\n",
       "    <tr>\n",
       "      <th>1243</th>\n",
       "      <td>8.3</td>\n",
       "      <td>0.56</td>\n",
       "      <td>0.22</td>\n",
       "      <td>2.4</td>\n",
       "      <td>0.082</td>\n",
       "      <td>10.0</td>\n",
       "      <td>86.0</td>\n",
       "      <td>0.99830</td>\n",
       "      <td>3.37</td>\n",
       "      <td>0.62</td>\n",
       "      <td>9.5</td>\n",
       "    </tr>\n",
       "    <tr>\n",
       "      <th>1430</th>\n",
       "      <td>7.4</td>\n",
       "      <td>0.41</td>\n",
       "      <td>0.24</td>\n",
       "      <td>1.8</td>\n",
       "      <td>0.066</td>\n",
       "      <td>18.0</td>\n",
       "      <td>47.0</td>\n",
       "      <td>0.99560</td>\n",
       "      <td>3.37</td>\n",
       "      <td>0.62</td>\n",
       "      <td>10.4</td>\n",
       "    </tr>\n",
       "    <tr>\n",
       "      <th>1391</th>\n",
       "      <td>8.0</td>\n",
       "      <td>0.64</td>\n",
       "      <td>0.22</td>\n",
       "      <td>2.4</td>\n",
       "      <td>0.094</td>\n",
       "      <td>5.0</td>\n",
       "      <td>33.0</td>\n",
       "      <td>0.99612</td>\n",
       "      <td>3.37</td>\n",
       "      <td>0.58</td>\n",
       "      <td>11.0</td>\n",
       "    </tr>\n",
       "  </tbody>\n",
       "</table>\n",
       "</div>"
      ],
      "text/plain": [
       "      fixed acidity  volatile acidity  citric acid  residual sugar  chlorides  \\\n",
       "72              7.7              0.69         0.22             1.9      0.084   \n",
       "133             6.6              0.50         0.01             1.5      0.060   \n",
       "1243            8.3              0.56         0.22             2.4      0.082   \n",
       "1430            7.4              0.41         0.24             1.8      0.066   \n",
       "1391            8.0              0.64         0.22             2.4      0.094   \n",
       "\n",
       "      free sulfur dioxide  total sulfur dioxide  density    pH  sulphates  \\\n",
       "72                   18.0                  94.0  0.99610  3.31       0.48   \n",
       "133                  17.0                  26.0  0.99520  3.40       0.58   \n",
       "1243                 10.0                  86.0  0.99830  3.37       0.62   \n",
       "1430                 18.0                  47.0  0.99560  3.37       0.62   \n",
       "1391                  5.0                  33.0  0.99612  3.37       0.58   \n",
       "\n",
       "      alcohol  \n",
       "72        9.5  \n",
       "133       9.8  \n",
       "1243      9.5  \n",
       "1430     10.4  \n",
       "1391     11.0  "
      ]
     },
     "execution_count": 12,
     "metadata": {},
     "output_type": "execute_result"
    }
   ],
   "source": [
    "# double check train_test_split divided correctly\n",
    "\n",
    "x_train.head()"
   ]
  },
  {
   "cell_type": "code",
   "execution_count": 13,
   "id": "80e35e7d",
   "metadata": {},
   "outputs": [
    {
     "data": {
      "text/plain": [
       "(1199, 11)"
      ]
     },
     "execution_count": 13,
     "metadata": {},
     "output_type": "execute_result"
    }
   ],
   "source": [
    "x_train.shape"
   ]
  },
  {
   "cell_type": "code",
   "execution_count": 14,
   "id": "ced2e3ea",
   "metadata": {},
   "outputs": [
    {
     "data": {
      "text/plain": [
       "72      5\n",
       "133     6\n",
       "1243    5\n",
       "1430    5\n",
       "1391    5\n",
       "Name: quality, dtype: int64"
      ]
     },
     "execution_count": 14,
     "metadata": {},
     "output_type": "execute_result"
    }
   ],
   "source": [
    "y_train.head()"
   ]
  },
  {
   "cell_type": "code",
   "execution_count": 15,
   "id": "108a8071",
   "metadata": {},
   "outputs": [
    {
     "data": {
      "text/plain": [
       "(1199,)"
      ]
     },
     "execution_count": 15,
     "metadata": {},
     "output_type": "execute_result"
    }
   ],
   "source": [
    "y_train.shape"
   ]
  },
  {
   "cell_type": "code",
   "execution_count": 16,
   "id": "206acc05",
   "metadata": {},
   "outputs": [
    {
     "data": {
      "text/plain": [
       "(400, 11)"
      ]
     },
     "execution_count": 16,
     "metadata": {},
     "output_type": "execute_result"
    }
   ],
   "source": [
    "x_test.shape"
   ]
  },
  {
   "cell_type": "code",
   "execution_count": 17,
   "id": "d80319b7",
   "metadata": {},
   "outputs": [
    {
     "data": {
      "text/plain": [
       "(400,)"
      ]
     },
     "execution_count": 17,
     "metadata": {},
     "output_type": "execute_result"
    }
   ],
   "source": [
    "y_test.shape"
   ]
  },
  {
   "cell_type": "markdown",
   "id": "24ebd211",
   "metadata": {},
   "source": [
    "The training and test data were split at 75% train, 25% test and the \"quality\" variable that is our dependent variable is also separated to be used as the target. "
   ]
  },
  {
   "cell_type": "markdown",
   "id": "f33602c6",
   "metadata": {},
   "source": [
    "**4) Choosing the relevant algorithm.**"
   ]
  },
  {
   "cell_type": "markdown",
   "id": "c78f0306",
   "metadata": {},
   "source": [
    "Because our target variable is a numerical value that does not fall into a binary or multi-class classification, this task requires a regression algorithm. Since the data set does not have a high number of attributes, there is no huge worry about computational complexity. I will be using a linear regression to perform learning here."
   ]
  },
  {
   "cell_type": "markdown",
   "id": "7ed6d88f",
   "metadata": {},
   "source": [
    "**5) Writing a python code to perform learning.**"
   ]
  },
  {
   "cell_type": "code",
   "execution_count": 18,
   "id": "4608737b",
   "metadata": {},
   "outputs": [],
   "source": [
    "# make a \"fit\" function to return the weights for regression line\n",
    "\n",
    "def linreg_fit(x_train, y_train, x_copy=True):\n",
    "    \n",
    "    # make a copy of the x_train dataframe\n",
    "    if x_copy == True:\n",
    "        x = x_train.copy()\n",
    "    \n",
    "    # convert x to numpy array\n",
    "    x.to_numpy()\n",
    "    \n",
    "    # calculate length of x for dummy variable creation\n",
    "    length = len(x)\n",
    "    \n",
    "    # add dummy variable x0=1 to all instances\n",
    "    x_b = np.c_[np.ones((length, 1)), x]\n",
    "    \n",
    "    # calculate weights for x_train\n",
    "    weights = np.linalg.inv(x_b.T.dot(x_b)).dot(x_b.T).dot(y_train)\n",
    "    \n",
    "    return weights\n",
    "    \n",
    "    "
   ]
  },
  {
   "cell_type": "code",
   "execution_count": 19,
   "id": "3f9b30ad",
   "metadata": {},
   "outputs": [
    {
     "name": "stdout",
     "output_type": "stream",
     "text": [
      "[ 5.47297914e+00 -5.60198525e-03 -1.12184086e+00 -1.48092810e-01\n",
      "  8.25041806e-03 -2.45051697e+00  6.25420092e-03 -4.48348967e-03\n",
      " -3.11402050e-01 -5.94309412e-01  9.12853335e-01  2.71828320e-01]\n"
     ]
    }
   ],
   "source": [
    "ω = linreg_fit(x_train, y_train)\n",
    "print(ω)"
   ]
  },
  {
   "cell_type": "code",
   "execution_count": 20,
   "id": "35e671de",
   "metadata": {},
   "outputs": [],
   "source": [
    "# now make a \"predict\" function to return the predicted y values\n",
    "\n",
    "def linreg_predict(x_test, weights, x_copy=True):\n",
    "    \n",
    "    # make copy of x_test\n",
    "    if x_copy == True:\n",
    "        x = x_test.copy()\n",
    "    \n",
    "    # add x0=1 to all instances\n",
    "    length = len(x)\n",
    "    x_b = np.c_[np.ones((length, 1)), x]\n",
    "    \n",
    "    # predict y for each instance\n",
    "    y_pred = x_b.dot(weights)\n",
    "    \n",
    "    return y_pred"
   ]
  },
  {
   "cell_type": "code",
   "execution_count": 21,
   "id": "272fb83c",
   "metadata": {},
   "outputs": [],
   "source": [
    "y_pred = linreg_predict(x_test, ω)"
   ]
  },
  {
   "cell_type": "markdown",
   "id": "402d859b",
   "metadata": {},
   "source": [
    "**6) Evaluating your learning performance. \\\n",
    "7) Making sure your results does not depend on your choosing parameters.**"
   ]
  },
  {
   "cell_type": "markdown",
   "id": "c709533a",
   "metadata": {},
   "source": [
    "For linear regression tasks, R-squared ($R^2$) and Mean-Square-Error (MSE) are suitable metrics for model evaluation. Both result as follows:"
   ]
  },
  {
   "cell_type": "code",
   "execution_count": 22,
   "id": "9c4cd98d",
   "metadata": {},
   "outputs": [],
   "source": [
    "# create a function to calculate R2 and MSE in one go\n",
    "\n",
    "def model_eval(y_test, y_pred):\n",
    "    \n",
    "    # calculate R2\n",
    "    u = ((y_test - y_pred) ** 2).sum()\n",
    "    v = ((y_test - y_test.mean()) ** 2).sum()\n",
    "    r_squared = 1 - u / v\n",
    "    \n",
    "    # calculate MSE\n",
    "    z = len(y_test)\n",
    "    mse = u / z\n",
    "    \n",
    "    return r_squared, mse"
   ]
  },
  {
   "cell_type": "code",
   "execution_count": 23,
   "id": "120b96a1",
   "metadata": {},
   "outputs": [],
   "source": [
    "r2, mse = model_eval(y_test, y_pred)"
   ]
  },
  {
   "cell_type": "code",
   "execution_count": null,
   "id": "3274e1ef",
   "metadata": {},
   "outputs": [],
   "source": []
  }
 ],
 "metadata": {
  "kernelspec": {
   "display_name": "Python 3 (ipykernel)",
   "language": "python",
   "name": "python3"
  },
  "language_info": {
   "codemirror_mode": {
    "name": "ipython",
    "version": 3
   },
   "file_extension": ".py",
   "mimetype": "text/x-python",
   "name": "python",
   "nbconvert_exporter": "python",
   "pygments_lexer": "ipython3",
   "version": "3.7.10"
  }
 },
 "nbformat": 4,
 "nbformat_minor": 5
}
